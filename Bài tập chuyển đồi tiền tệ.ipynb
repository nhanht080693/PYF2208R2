{
 "cells": [
  {
   "cell_type": "code",
   "execution_count": null,
   "id": "64f78e19",
   "metadata": {},
   "outputs": [],
   "source": [
    "dollars = float(input(\"Nhập số USD cần đổi:\"))\n",
    "ti_gia = float(input(\"Nhập tỉ giá chuyển đổi USD sang VND: \"))\n",
    "dong_VN = dollars * ti_gia\n"
   ]
  }
 ],
 "metadata": {
  "kernelspec": {
   "display_name": "Python 3 (ipykernel)",
   "language": "python",
   "name": "python3"
  },
  "language_info": {
   "codemirror_mode": {
    "name": "ipython",
    "version": 3
   },
   "file_extension": ".py",
   "mimetype": "text/x-python",
   "name": "python",
   "nbconvert_exporter": "python",
   "pygments_lexer": "ipython3",
   "version": "3.10.6"
  }
 },
 "nbformat": 4,
 "nbformat_minor": 5
}
