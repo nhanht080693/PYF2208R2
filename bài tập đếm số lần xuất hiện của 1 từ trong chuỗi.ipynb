{
 "cells": [
  {
   "cell_type": "code",
   "execution_count": 3,
   "id": "adb72223",
   "metadata": {},
   "outputs": [
    {
     "name": "stdout",
     "output_type": "stream",
     "text": [
      "Nhập chuỗi: Nhân đây! mi đang ở mô đó? mua tau cái bánh bao nhân thịt, nhân tiện mua thêm cái lò phản ứng hạt nhân luôn\n",
      "Nhập chữ cần đếm: nhân\n",
      "{'nhân': 4}\n"
     ]
    }
   ],
   "source": [
    "input_str = input(\"Nhập chuỗi: \")\n",
    "word = input(\"Nhập chữ cần đếm: \")\n",
    "\n",
    "def count_words(input_str):\n",
    "    num_words = {word: 0}\n",
    "    text_list = input_str.split(\" \")\n",
    "    for text in text_list:\n",
    "        text = text.lower()\n",
    "        text = text.strip()\n",
    "        number = num_words.get(word)\n",
    "        if text == word:\n",
    "            number += 1\n",
    "            num_words[word] = number\n",
    "    return(num_words)\n",
    "\n",
    "\n",
    "print(count_words(input_str))\n",
    "        \n",
    "        "
   ]
  }
 ],
 "metadata": {
  "kernelspec": {
   "display_name": "Python 3 (ipykernel)",
   "language": "python",
   "name": "python3"
  },
  "language_info": {
   "codemirror_mode": {
    "name": "ipython",
    "version": 3
   },
   "file_extension": ".py",
   "mimetype": "text/x-python",
   "name": "python",
   "nbconvert_exporter": "python",
   "pygments_lexer": "ipython3",
   "version": "3.10.6"
  }
 },
 "nbformat": 4,
 "nbformat_minor": 5
}
