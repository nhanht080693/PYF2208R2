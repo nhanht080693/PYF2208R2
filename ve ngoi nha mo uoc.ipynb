{
 "cells": [
  {
   "cell_type": "code",
   "execution_count": 1,
   "id": "c3343ebc",
   "metadata": {},
   "outputs": [],
   "source": [
    "import turtle\n",
    "pen = turtle.Turtle()\n"
   ]
  },
  {
   "cell_type": "code",
   "execution_count": 2,
   "id": "cc889f45",
   "metadata": {},
   "outputs": [],
   "source": [
    "pen.penup()\n",
    "pen.backward(400)\n",
    "pen.pendown()\n",
    "pen.forward(200)\n",
    "pen.right(90)\n",
    "pen.forward(300)\n",
    "pen.right(90)\n",
    "pen.forward(200)\n",
    "pen.right(90)\n",
    "pen.forward(300)\n",
    "pen.right(90)\n",
    "pen.forward(200)\n",
    "pen.left(120)\n",
    "pen.forward(200)\n",
    "pen.left(120)\n",
    "pen.forward(200)\n",
    "pen.backward(200)\n",
    "pen.right(180)\n",
    "pen.right(30)\n",
    "pen.forward(250)\n",
    "pen.right(90)\n",
    "pen.forward(200)\n",
    "pen.right(90)\n",
    "pen.forward(250)\n",
    "pen.left(60)\n",
    "pen.forward(300)\n",
    "pen.left(120)\n",
    "pen.forward(250)\n",
    "pen.left(60)\n",
    "pen.forward(300)"
   ]
  },
  {
   "cell_type": "code",
   "execution_count": 3,
   "id": "d161efb2",
   "metadata": {},
   "outputs": [],
   "source": [
    "# vẽ cửa sổ\n",
    "pen.penup()\n",
    "pen.backward(50)\n",
    "pen.left(120)\n",
    "pen.forward(100)\n",
    "pen.pendown()\n",
    "pen.forward(50)\n",
    "pen.left(60)\n",
    "pen.forward(50)\n",
    "pen.left(120)\n",
    "pen.forward(50)\n",
    "pen.left(60)\n",
    "pen.forward(50)\n",
    "pen.left(120)\n",
    "pen.forward(50)"
   ]
  },
  {
   "cell_type": "code",
   "execution_count": 4,
   "id": "f5946a04",
   "metadata": {},
   "outputs": [],
   "source": [
    "#vẽ cửa chính\n",
    "pen.penup()\n",
    "pen.forward(100)\n",
    "pen.left(60)\n",
    "pen.forward(100)\n",
    "pen.right(90)\n",
    "pen.forward(50)\n",
    "pen.pendown()\n",
    "pen.forward(100)\n",
    "pen.left(90)\n",
    "pen.forward(150)\n",
    "pen.left(90)\n",
    "pen.forward(100)\n",
    "pen.left(90)\n",
    "pen.forward(150)\n"
   ]
  },
  {
   "cell_type": "code",
   "execution_count": 5,
   "id": "d7a77208",
   "metadata": {},
   "outputs": [],
   "source": [
    "# vẽ mặt trời\n",
    "pen.penup()\n",
    "pen.forward(400)\n",
    "pen.right(90)\n",
    "pen.forward(500)\n",
    "pen.pendown()\n",
    "pen.circle(40)\n",
    "pen.right(90)\n",
    "pen.forward(50)\n",
    "pen.penup()\n",
    "pen.backward(90)\n",
    "pen.backward(40)\n",
    "pen.pendown()\n",
    "pen.backward(50)\n",
    "pen.penup()\n",
    "pen.forward(90)\n",
    "pen.right(90)\n",
    "pen.forward(40)\n",
    "pen.pendown()\n",
    "pen.forward(50)\n",
    "pen.penup()\n",
    "pen.backward(130)\n",
    "pen.pendown()\n",
    "pen.backward(50)\n",
    "pen.penup()\n",
    "pen.forward(90)\n",
    "pen.right(45)\n",
    "pen.forward(40)\n",
    "pen.pendown()\n",
    "pen.forward(25)\n",
    "pen.penup()\n",
    "pen.backward(65)\n",
    "pen.left(90)\n",
    "pen.forward(40)\n",
    "pen.pendown()\n",
    "pen.forward(25)\n",
    "pen.penup()\n",
    "pen.backward(65)\n",
    "pen.left(90)\n",
    "pen.forward(40)\n",
    "pen.pendown()\n",
    "pen.forward(25)\n",
    "pen.penup()\n",
    "pen.backward(65)\n",
    "pen.left(90)\n",
    "pen.forward(40)\n",
    "pen.pendown()\n",
    "pen.forward(25)\n",
    "pen.penup()\n",
    "pen.backward(65)"
   ]
  },
  {
   "cell_type": "code",
   "execution_count": 6,
   "id": "99beed27",
   "metadata": {},
   "outputs": [],
   "source": [
    "# vẽ cây:\n",
    "pen.right(135)\n",
    "pen.penup()\n",
    "pen.forward(300)\n",
    "pen.pendown()\n",
    "pen.right(30)\n",
    "pen.forward(80)\n",
    "pen.left(120)\n",
    "pen.forward(80)\n",
    "pen.left(120)\n",
    "pen.forward(80)\n",
    "pen.left(120)\n",
    "pen.forward(80)\n",
    "pen.penup()\n",
    "pen.left(120)\n",
    "pen.forward(40)\n",
    "pen.right(90)\n",
    "pen.left(30)\n",
    "pen.pendown()\n",
    "pen.forward(80)\n",
    "pen.right(120)\n",
    "pen.forward(80)\n",
    "pen.right(120)\n",
    "pen.forward(80)\n",
    "pen.penup()\n",
    "pen.backward(80)\n",
    "pen.right(60)\n",
    "pen.forward(40)\n",
    "pen.right(60)\n",
    "pen.pendown()\n",
    "pen.forward(80)\n",
    "pen.right(120)\n",
    "pen.forward(80)\n",
    "pen.right(120)\n",
    "pen.forward(80)\n",
    "#vẽ thân cây\n",
    "pen.backward(80)\n",
    "pen.right(60)\n",
    "pen.forward(20)\n",
    "pen.right(90)\n",
    "pen.forward(80)\n",
    "pen.left(90)\n",
    "pen.forward(40)\n",
    "pen.left(90)\n",
    "pen.forward(80)"
   ]
  },
  {
   "cell_type": "code",
   "execution_count": null,
   "id": "ebbc1c4c",
   "metadata": {},
   "outputs": [],
   "source": [
    "turtle.done()\n",
    "\n"
   ]
  },
  {
   "cell_type": "code",
   "execution_count": 8,
   "id": "fe0be47e",
   "metadata": {},
   "outputs": [],
   "source": []
  },
  {
   "cell_type": "code",
   "execution_count": 9,
   "id": "e9e5ab09",
   "metadata": {},
   "outputs": [],
   "source": []
  },
  {
   "cell_type": "code",
   "execution_count": 10,
   "id": "8c5d3a58",
   "metadata": {},
   "outputs": [],
   "source": []
  },
  {
   "cell_type": "code",
   "execution_count": 11,
   "id": "97d9cc3c",
   "metadata": {},
   "outputs": [],
   "source": []
  },
  {
   "cell_type": "code",
   "execution_count": 12,
   "id": "f125f696",
   "metadata": {},
   "outputs": [],
   "source": []
  },
  {
   "cell_type": "code",
   "execution_count": 13,
   "id": "92ee3bbf",
   "metadata": {},
   "outputs": [],
   "source": []
  },
  {
   "cell_type": "code",
   "execution_count": 14,
   "id": "ab351264",
   "metadata": {},
   "outputs": [],
   "source": [
    "\n",
    "\n"
   ]
  },
  {
   "cell_type": "code",
   "execution_count": 15,
   "id": "6d3887fc",
   "metadata": {},
   "outputs": [],
   "source": []
  },
  {
   "cell_type": "code",
   "execution_count": 16,
   "id": "476130d2",
   "metadata": {},
   "outputs": [],
   "source": []
  },
  {
   "cell_type": "code",
   "execution_count": 17,
   "id": "d8b7419b",
   "metadata": {},
   "outputs": [],
   "source": [
    "\n"
   ]
  },
  {
   "cell_type": "code",
   "execution_count": 18,
   "id": "ba991595",
   "metadata": {},
   "outputs": [],
   "source": [
    "\n",
    "\n",
    "\n"
   ]
  },
  {
   "cell_type": "code",
   "execution_count": 19,
   "id": "f6879c16",
   "metadata": {},
   "outputs": [],
   "source": [
    "\n",
    "\n"
   ]
  },
  {
   "cell_type": "code",
   "execution_count": 20,
   "id": "36b34ca7",
   "metadata": {},
   "outputs": [],
   "source": [
    "\n"
   ]
  },
  {
   "cell_type": "code",
   "execution_count": 21,
   "id": "311bd80a",
   "metadata": {},
   "outputs": [],
   "source": []
  }
 ],
 "metadata": {
  "kernelspec": {
   "display_name": "Python 3 (ipykernel)",
   "language": "python",
   "name": "python3"
  },
  "language_info": {
   "codemirror_mode": {
    "name": "ipython",
    "version": 3
   },
   "file_extension": ".py",
   "mimetype": "text/x-python",
   "name": "python",
   "nbconvert_exporter": "python",
   "pygments_lexer": "ipython3",
   "version": "3.10.6"
  }
 },
 "nbformat": 4,
 "nbformat_minor": 5
}
