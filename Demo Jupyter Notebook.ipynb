{
 "cells": [
  {
   "cell_type": "code",
   "execution_count": 2,
   "id": "3920e3e3",
   "metadata": {},
   "outputs": [
    {
     "name": "stdout",
     "output_type": "stream",
     "text": [
      "Hello world!!!\n"
     ]
    }
   ],
   "source": [
    "print(\"Hello world!!!\")"
   ]
  },
  {
   "cell_type": "markdown",
   "id": "f216c6e9",
   "metadata": {},
   "source": [
    "Test thử phần in ra màn hình"
   ]
  },
  {
   "cell_type": "code",
   "execution_count": 3,
   "id": "e824958b",
   "metadata": {},
   "outputs": [
    {
     "name": "stdout",
     "output_type": "stream",
     "text": [
      "PYF2208R2\n"
     ]
    }
   ],
   "source": [
    "print(\"PYF2208R2\")"
   ]
  },
  {
   "cell_type": "code",
   "execution_count": 13,
   "id": "db0e3098",
   "metadata": {},
   "outputs": [
    {
     "name": "stdout",
     "output_type": "stream",
     "text": [
      "Hello world\n",
      "My name is Nhan\n",
      "I'm studying Python Fundamental\n"
     ]
    }
   ],
   "source": [
    "print(\"Hello world\" '\\n'  \"My name is Nhan\" '\\n' \"I'm studying Python Fundamental\" )\n"
   ]
  },
  {
   "cell_type": "code",
   "execution_count": null,
   "id": "01cbdf5f",
   "metadata": {},
   "outputs": [],
   "source": []
  }
 ],
 "metadata": {
  "kernelspec": {
   "display_name": "Python 3 (ipykernel)",
   "language": "python",
   "name": "python3"
  },
  "language_info": {
   "codemirror_mode": {
    "name": "ipython",
    "version": 3
   },
   "file_extension": ".py",
   "mimetype": "text/x-python",
   "name": "python",
   "nbconvert_exporter": "python",
   "pygments_lexer": "ipython3",
   "version": "3.10.6"
  }
 },
 "nbformat": 4,
 "nbformat_minor": 5
}
