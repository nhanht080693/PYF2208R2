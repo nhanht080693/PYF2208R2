{
 "cells": [
  {
   "cell_type": "code",
   "execution_count": 1,
   "id": "009392d9",
   "metadata": {},
   "outputs": [],
   "source": [
    "from random import randint\n",
    "import turtle\n",
    "pen = turtle.Turtle()\n",
    "pen.speed(200)\n",
    "pen.pensize(4)\n",
    "count = 1\n",
    "r = 2 \n",
    "n = 1\n",
    "while n <=36:\n",
    "    \n",
    "    while (n-1)* 360 <count <=  n*360:\n",
    "        if count <=(n-1)*360+90:\n",
    "            pen.forward(r)\n",
    "        elif (n-1)*360+90 < count <= (n-1)*360+180:\n",
    "            pen.forward(r/2)\n",
    "        elif  (n-1)*360 + 180 < count <= (n-1)*360 + 270:\n",
    "            pen.forward(r)\n",
    "        else:\n",
    "            pen.forward(r/2)\n",
    "        pen.left(1)\n",
    "        count +=1    \n",
    "    pen.left(10)\n",
    "    n += 1   \n",
    "    \n",
    "    \n",
    "   \n",
    "    \n",
    "\n"
   ]
  },
  {
   "cell_type": "code",
   "execution_count": null,
   "id": "11b21c31",
   "metadata": {},
   "outputs": [],
   "source": []
  }
 ],
 "metadata": {
  "kernelspec": {
   "display_name": "Python 3 (ipykernel)",
   "language": "python",
   "name": "python3"
  },
  "language_info": {
   "codemirror_mode": {
    "name": "ipython",
    "version": 3
   },
   "file_extension": ".py",
   "mimetype": "text/x-python",
   "name": "python",
   "nbconvert_exporter": "python",
   "pygments_lexer": "ipython3",
   "version": "3.10.6"
  }
 },
 "nbformat": 4,
 "nbformat_minor": 5
}
