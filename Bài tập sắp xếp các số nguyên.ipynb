{
 "cells": [
  {
   "cell_type": "code",
   "execution_count": 1,
   "id": "e02e861f",
   "metadata": {},
   "outputs": [
    {
     "name": "stdout",
     "output_type": "stream",
     "text": [
      "Nhập x: 5\n",
      "Nhập y: 8\n",
      "Nhập z: 1\n",
      "5 8 1\n",
      "1 5 8\n"
     ]
    }
   ],
   "source": [
    "def arrange_numbers(num1, num2, num3):\n",
    "    temp = 0\n",
    "    if num2 < num1 and num2 < num3:\n",
    "        temp = num1\n",
    "        num1 = num2\n",
    "        num2 = temp\n",
    "    elif num3 < num1 and num3 < num2:\n",
    "        temp = num1\n",
    "        num1 = num3\n",
    "        num3 = temp\n",
    "    if num3 < num2:\n",
    "        temp = num2\n",
    "        num2 = num3\n",
    "        num3 = temp\n",
    "    return (num1, num2, num3)\n",
    "x = int(input(\"Nhập x: \"))\n",
    "y = int(input(\"Nhập y: \"))\n",
    "z = int(input(\"Nhập z: \"))\n",
    "a,b,c = arrange_numbers(x, y, z)\n",
    "print(x,y,z)\n",
    "print(a,b,c)\n",
    "    "
   ]
  }
 ],
 "metadata": {
  "kernelspec": {
   "display_name": "Python 3 (ipykernel)",
   "language": "python",
   "name": "python3"
  },
  "language_info": {
   "codemirror_mode": {
    "name": "ipython",
    "version": 3
   },
   "file_extension": ".py",
   "mimetype": "text/x-python",
   "name": "python",
   "nbconvert_exporter": "python",
   "pygments_lexer": "ipython3",
   "version": "3.10.6"
  }
 },
 "nbformat": 4,
 "nbformat_minor": 5
}
