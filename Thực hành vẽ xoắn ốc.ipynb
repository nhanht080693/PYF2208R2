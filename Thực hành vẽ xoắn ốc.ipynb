{
 "cells": [
  {
   "cell_type": "code",
   "execution_count": 1,
   "id": "5808d272",
   "metadata": {},
   "outputs": [
    {
     "name": "stdout",
     "output_type": "stream",
     "text": [
      "Nhập số lượng vòng tròn cần vẽ: 20\n"
     ]
    }
   ],
   "source": [
    "import turtle\n",
    "pen = turtle.Turtle()\n",
    "n = int(input(\"Nhập số lượng vòng tròn cần vẽ: \"))\n",
    "count = 1\n",
    "r = 2\n",
    "while count < n:\n",
    "    r +=5\n",
    "    pen.circle(r,180)\n",
    "    count +=1\n",
    "    \n"
   ]
  },
  {
   "cell_type": "code",
   "execution_count": 1,
   "id": "0242f00d",
   "metadata": {},
   "outputs": [
    {
     "name": "stdout",
     "output_type": "stream",
     "text": [
      "nhập n: 20\n"
     ]
    }
   ],
   "source": [
    "import turtle\n",
    "pen = turtle.Turtle()\n",
    "pen.speed(100)\n",
    "n = int(input(\"nhập n: \"))\n",
    "d = 0.1\n",
    "count = 1\n",
    "x = 1\n",
    "while count <= n *180:\n",
    "    pen.forward(d)\n",
    "    pen.left(1)\n",
    "    count += 1\n",
    "    if count % 180 == 0 and n >1:\n",
    "        d += 0.1   \n"
   ]
  },
  {
   "cell_type": "code",
   "execution_count": 2,
   "id": "69e76eab",
   "metadata": {},
   "outputs": [],
   "source": []
  },
  {
   "cell_type": "code",
   "execution_count": 2,
   "id": "c7b59fe2",
   "metadata": {},
   "outputs": [],
   "source": []
  },
  {
   "cell_type": "code",
   "execution_count": 4,
   "id": "95cd79e3",
   "metadata": {},
   "outputs": [],
   "source": []
  }
 ],
 "metadata": {
  "kernelspec": {
   "display_name": "Python 3 (ipykernel)",
   "language": "python",
   "name": "python3"
  },
  "language_info": {
   "codemirror_mode": {
    "name": "ipython",
    "version": 3
   },
   "file_extension": ".py",
   "mimetype": "text/x-python",
   "name": "python",
   "nbconvert_exporter": "python",
   "pygments_lexer": "ipython3",
   "version": "3.10.6"
  }
 },
 "nbformat": 4,
 "nbformat_minor": 5
}
