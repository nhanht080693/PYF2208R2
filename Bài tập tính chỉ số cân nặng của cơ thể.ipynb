{
 "cells": [
  {
   "cell_type": "code",
   "execution_count": 4,
   "id": "c2d23f44",
   "metadata": {},
   "outputs": [
    {
     "name": "stdout",
     "output_type": "stream",
     "text": [
      "Nhập cân nặng: 75\n",
      "Nhập chiều cao: 1.67\n",
      "Thừa cân\n"
     ]
    }
   ],
   "source": [
    "weight = float(input(\"Nhập cân nặng: \"))\n",
    "height = float(input(\"Nhập chiều cao: \"))\n",
    "BMI = weight/(height**2)\n",
    "if BMI < 16:\n",
    "    print(\"gầy cấp độ III\")\n",
    "elif 16 <= BMI < 17:\n",
    "    print(\"Gầy cấp độ II\")\n",
    "elif 17 <= BMI < 18.5:\n",
    "    print(\"Gầy cấp độ I\")\n",
    "elif 18.5 <= BMI < 25:\n",
    "    print(\"Bình thường\")\n",
    "elif 25 <= BMI < 30:\n",
    "    print(\"Thừa cân\")\n",
    "elif 30 <= BMI < 35:\n",
    "    print(\" Béo phì cấp độ I\")\n",
    "elif 35 <= BMI < 40:\n",
    "    print(\" Béo phì cấp độ II\")\n",
    "else:\n",
    "    print(\" Béo phì cấp độ III\")\n"
   ]
  }
 ],
 "metadata": {
  "kernelspec": {
   "display_name": "Python 3 (ipykernel)",
   "language": "python",
   "name": "python3"
  },
  "language_info": {
   "codemirror_mode": {
    "name": "ipython",
    "version": 3
   },
   "file_extension": ".py",
   "mimetype": "text/x-python",
   "name": "python",
   "nbconvert_exporter": "python",
   "pygments_lexer": "ipython3",
   "version": "3.10.6"
  }
 },
 "nbformat": 4,
 "nbformat_minor": 5
}
