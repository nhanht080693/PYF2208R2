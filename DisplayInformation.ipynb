{
 "cells": [
  {
   "cell_type": "code",
   "execution_count": 1,
   "id": "4a21911c",
   "metadata": {},
   "outputs": [
    {
     "name": "stdout",
     "output_type": "stream",
     "text": [
      "Họ và tên: Dương Văn Nhân \n",
      " Ngày sinh: 08 tháng 06 năm 1993 \n",
      "Địa chỉ: Số nhà 18, ngách 2 ngõ 62, đường Hoàng Xuân Hãn \n",
      "Mục đích học Python: Hiểu được cách lập trình cơ bản và cách tư duy thuật toán\n"
     ]
    }
   ],
   "source": [
    "print(\"Họ và tên: Dương Văn Nhân\", \"\\n\", \"Ngày sinh: 08 tháng 06 năm 1993\", \"\\n\" \"Địa chỉ: Số nhà 18, ngách 2 ngõ 62, đường Hoàng Xuân Hãn\", \"\\n\" \"Mục đích học Python: Hiểu được cách lập trình cơ bản và cách tư duy thuật toán\")"
   ]
  }
 ],
 "metadata": {
  "kernelspec": {
   "display_name": "Python 3 (ipykernel)",
   "language": "python",
   "name": "python3"
  },
  "language_info": {
   "codemirror_mode": {
    "name": "ipython",
    "version": 3
   },
   "file_extension": ".py",
   "mimetype": "text/x-python",
   "name": "python",
   "nbconvert_exporter": "python",
   "pygments_lexer": "ipython3",
   "version": "3.10.6"
  }
 },
 "nbformat": 4,
 "nbformat_minor": 5
}
