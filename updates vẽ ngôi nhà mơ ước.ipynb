{
 "cells": [
  {
   "cell_type": "code",
   "execution_count": 3,
   "id": "6c74a390",
   "metadata": {},
   "outputs": [],
   "source": [
    "import turtle\n",
    "pen = turtle.Turtle()\n",
    "pen.pensize(4)\n",
    "\n",
    "def draw_house(height, width, door_height, door_width, house_color):\n",
    "    pen.backward(200)\n",
    "    pen.fillcolor(house_color)\n",
    "    pen.begin_fill()\n",
    "    pen.forward(width)\n",
    "    pen.left(90)\n",
    "    pen.forward(height)\n",
    "    pen.left(90)\n",
    "    pen.forward(width)\n",
    "    pen.left(90)\n",
    "    pen.forward(height)\n",
    "    pen.end_fill()\n",
    "    pen.backward(height)\n",
    "    pen.left(180)\n",
    "#vẽ mái:\n",
    "def draw_roof(mau_mai, canh_mai):\n",
    "    mau_mai =\"red\"\n",
    "    canh_mai = 150\n",
    "    pen.right(45)\n",
    "    pen.fillcolor(mau_mai)\n",
    "    pen.begin_fill()\n",
    "    pen.forward(canh_mai)\n",
    "    pen.right(90)\n",
    "    pen.forward(canh_mai)\n",
    "    pen.end_fill()\n",
    "#vẽ ống khói:\n",
    "    pen.backward(60)\n",
    "    pen.fillcolor(\"brown\")\n",
    "    pen.begin_fill()\n",
    "    pen.left(135)\n",
    "    pen.forward(40)\n",
    "    pen.left(90)\n",
    "    pen.forward(20)\n",
    "    pen.forward(20)\n",
    "    pen.end_fill()\n",
    "    \n",
    "def draw_tree(tree_color, lenght_of_tree):\n",
    "    for i in range(3):\n",
    "        tree_color = \"green\"\n",
    "        pen.fillcolor(tree_color)\n",
    "        pen.begin_fill()\n",
    "        pen.forward(lenght_of_tree)\n",
    "        pen.left(120)\n",
    "        pen.forward(lenght_of_tree)\n",
    "        pen.left(120)\n",
    "        pen.forward(lenght_of_tree)\n",
    "        pen.end_fill()\n",
    "        pen.backward(lenght_of_tree)\n",
    "        pen.left(120)\n",
    "        pen.penup()\n",
    "        pen.backward(lenght_of_tree/2 - 10)\n",
    "        pen.pendown()\n",
    "        lenght_of_tree -= 20"
   ]
  },
  {
   "cell_type": "code",
   "execution_count": 2,
   "id": "b45fa1b9",
   "metadata": {
    "scrolled": true
   },
   "outputs": [
    {
     "name": "stdout",
     "output_type": "stream",
     "text": [
      "nhap chieu cao ngoi nha: 200\n",
      "nhap chieu rong ngoi nha: 300\n",
      "nhap chieu cao cua: 100\n",
      "nhap chieu rong cua: 60\n"
     ]
    }
   ],
   "source": [
    "draw_house(200,300,100,60,\"white\")\n",
    "draw_roof(\"red\", 150)\n",
    "pen.penup()\n",
    "pen.forward(300)\n",
    "pen.left(90)\n",
    "pen.forward(300)\n",
    "pen.left(90)\n",
    "pen.pendown()\n",
    "draw_tree(\"green\", 120)\n",
    "pen.penup()\n",
    "pen.goto(400,-100)\n",
    "pen.pendown()\n",
    "draw_tree(\"green\", 100)"
   ]
  },
  {
   "cell_type": "code",
   "execution_count": 4,
   "id": "80ec15d1",
   "metadata": {},
   "outputs": [],
   "source": []
  },
  {
   "cell_type": "code",
   "execution_count": 2,
   "id": "23e0877a",
   "metadata": {},
   "outputs": [],
   "source": []
  },
  {
   "cell_type": "code",
   "execution_count": 3,
   "id": "c30d9217",
   "metadata": {},
   "outputs": [],
   "source": []
  },
  {
   "cell_type": "code",
   "execution_count": 3,
   "id": "c5b1a9ab",
   "metadata": {},
   "outputs": [],
   "source": [
    "\n"
   ]
  },
  {
   "cell_type": "code",
   "execution_count": 5,
   "id": "0ec84aea",
   "metadata": {},
   "outputs": [],
   "source": [
    "\n"
   ]
  }
 ],
 "metadata": {
  "kernelspec": {
   "display_name": "Python 3 (ipykernel)",
   "language": "python",
   "name": "python3"
  },
  "language_info": {
   "codemirror_mode": {
    "name": "ipython",
    "version": 3
   },
   "file_extension": ".py",
   "mimetype": "text/x-python",
   "name": "python",
   "nbconvert_exporter": "python",
   "pygments_lexer": "ipython3",
   "version": "3.10.6"
  }
 },
 "nbformat": 4,
 "nbformat_minor": 5
}
