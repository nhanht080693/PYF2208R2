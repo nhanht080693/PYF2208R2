{
 "cells": [
  {
   "cell_type": "code",
   "execution_count": 1,
   "id": "6c74a390",
   "metadata": {},
   "outputs": [],
   "source": [
    "import turtle\n",
    "pen = turtle.Turtle()\n",
    "pen.pensize(4)"
   ]
  },
  {
   "cell_type": "code",
   "execution_count": 2,
   "id": "b45fa1b9",
   "metadata": {},
   "outputs": [
    {
     "name": "stdout",
     "output_type": "stream",
     "text": [
      "nhap chieu cao ngoi nha: 200\n",
      "nhap chieu rong ngoi nha: 300\n",
      "nhap chieu cao cua: 50\n",
      "nhap chieu rong cua: 120\n"
     ]
    }
   ],
   "source": [
    "chieu_cao = int(input(\"nhap chieu cao ngoi nha: \"))\n",
    "chieu_rong = int(input(\"nhap chieu rong ngoi nha: \"))\n",
    "chieu_cao_cua = int(input(\"nhap chieu cao cua: \"))\n",
    "chieu_rong_cua = int(input(\"nhap chieu rong cua: \"))\n",
    "mau_nha = \"white\""
   ]
  },
  {
   "cell_type": "code",
   "execution_count": 3,
   "id": "80ec15d1",
   "metadata": {},
   "outputs": [],
   "source": [
    "pen.backward(200)\n",
    "pen.fillcolor(mau_nha)\n",
    "pen.begin_fill()\n",
    "pen.forward(chieu_rong)\n",
    "pen.left(90)\n",
    "pen.forward(chieu_cao)\n",
    "pen.left(90)\n",
    "pen.forward(chieu_rong)\n",
    "pen.left(90)\n",
    "pen.forward(chieu_cao)\n",
    "pen.end_fill()\n",
    "pen.backward(chieu_cao)\n",
    "pen.left(180)"
   ]
  },
  {
   "cell_type": "code",
   "execution_count": 4,
   "id": "23e0877a",
   "metadata": {},
   "outputs": [],
   "source": [
    "#vẽ mái:\n",
    "mau_mai =\"red\"\n",
    "canh_mai = 150\n",
    "pen.right(45)\n",
    "pen.fillcolor(mau_mai)\n",
    "pen.begin_fill()\n",
    "pen.forward(canh_mai)\n",
    "pen.right(90)\n",
    "pen.forward(canh_mai)\n",
    "pen.end_fill()\n",
    "#vẽ ống khói:\n",
    "pen.backward(60)\n",
    "pen.fillcolor(\"brown\")\n",
    "pen.begin_fill()\n",
    "pen.left(135)\n",
    "pen.forward(40)\n",
    "pen.left(90)\n",
    "pen.forward(20)\n",
    "pen.forward(20)\n",
    "pen.end_fill()\n",
    "pen.penup()\n",
    "pen.forward(200)\n",
    "pen.left(90)\n",
    "pen.forward(300)\n",
    "pen.pendown()\n",
    "tree_color = \"green\"\n",
    "pen.fillcolor(tree_color)\n",
    "pen.begin_fill()\n",
    "pen.right(90)\n",
    "pen.forward(80)\n",
    "pen.right(120)\n",
    "pen.forward(80)\n",
    "pen.right(120)\n",
    "pen.forward(80)\n",
    "pen.end_fill()\n",
    "pen.right(120)\n",
    "pen.forward(40)\n",
    "pen.left(60)\n",
    "pen.fillcolor(tree_color)\n",
    "pen.begin_fill()\n",
    "pen.forward(100)\n",
    "pen.left(120)\n",
    "pen.forward(100)\n",
    "pen.left(120)\n",
    "pen.forward(100)\n",
    "pen.end_fill()\n",
    "pen.backward(100)\n",
    "pen.left(60)\n",
    "pen.forward(50)\n",
    "pen.fillcolor(tree_color)\n",
    "pen.begin_fill()\n",
    "pen.left(60)\n",
    "pen.forward(120)\n",
    "pen.left(120)\n",
    "pen.forward(120)\n",
    "pen.left(120)\n",
    "pen.forward(120)\n",
    "pen.end_fill()\n",
    "pen.penup()\n",
    "pen.goto(0,0)\n",
    "pen.left(60)\n",
    "pen.pendown()\n",
    "pen.fillcolor(\"green\")\n",
    "pen.begin_fill()\n",
    "pen.forward(chieu_rong_cua)\n",
    "pen.right(90)\n",
    "pen.forward(chieu_cao_cua)\n",
    "pen.right(90)\n",
    "pen.forward(chieu_rong_cua)\n",
    "pen.right(90)\n",
    "pen.forward(chieu_cao_cua)\n",
    "pen.end_fill()\n",
    "pen.left(90)\n",
    "pen.penup()\n",
    "pen.forward(250)\n",
    "pen.pendown()\n",
    "tree_color = \"green\"\n",
    "pen.fillcolor(tree_color)\n",
    "pen.begin_fill()\n",
    "pen.forward(50)\n",
    "pen.left(120)\n",
    "pen.forward(50)\n",
    "pen.left(120)\n",
    "pen.forward(50)\n",
    "pen.end_fill()\n",
    "pen.left(120)\n",
    "pen.forward(25)\n",
    "pen.right(60)\n",
    "pen.fillcolor(tree_color)\n",
    "pen.begin_fill()\n",
    "pen.forward(100)\n",
    "pen.right(120)\n",
    "pen.forward(100)\n",
    "pen.right(120)\n",
    "pen.forward(100)\n",
    "pen.end_fill()\n",
    "pen.backward(100)\n",
    "pen.right(60)\n",
    "pen.forward(50)\n",
    "pen.fillcolor(tree_color)\n",
    "pen.begin_fill()\n",
    "pen.right(60)\n",
    "pen.forward(150)\n",
    "pen.right(120)\n",
    "pen.forward(150)\n",
    "pen.right(120)\n",
    "pen.forward(150)\n",
    "pen.end_fill()\n"
   ]
  },
  {
   "cell_type": "code",
   "execution_count": 5,
   "id": "c30d9217",
   "metadata": {},
   "outputs": [],
   "source": []
  },
  {
   "cell_type": "code",
   "execution_count": 6,
   "id": "c5b1a9ab",
   "metadata": {},
   "outputs": [],
   "source": [
    "\n"
   ]
  },
  {
   "cell_type": "code",
   "execution_count": 5,
   "id": "0ec84aea",
   "metadata": {},
   "outputs": [],
   "source": [
    "\n"
   ]
  }
 ],
 "metadata": {
  "kernelspec": {
   "display_name": "Python 3 (ipykernel)",
   "language": "python",
   "name": "python3"
  },
  "language_info": {
   "codemirror_mode": {
    "name": "ipython",
    "version": 3
   },
   "file_extension": ".py",
   "mimetype": "text/x-python",
   "name": "python",
   "nbconvert_exporter": "python",
   "pygments_lexer": "ipython3",
   "version": "3.10.6"
  }
 },
 "nbformat": 4,
 "nbformat_minor": 5
}
