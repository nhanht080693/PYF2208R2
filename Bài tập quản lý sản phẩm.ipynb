{
 "cells": [
  {
   "cell_type": "code",
   "execution_count": 2,
   "id": "0e428c17",
   "metadata": {},
   "outputs": [
    {
     "name": "stdout",
     "output_type": "stream",
     "text": [
      "{1: 'bút', 2: 'vở', 3: 'sách Toán', 4: 'Sách Tiếng Anh', 5: 'Sách Ngữ Văn', 6: 'Sách Vật Lý', 7: 'Sách Hóa Học', 8: ' Thước', 9: 'Compa'}\n",
      "{1: 'bút', 2: 'vở', 3: 'sách Toán', 4: 'Sách Tiếng Anh', 5: 'Sách Ngữ Văn', 6: 'Sách Vật Lý', 7: 'Sách Hóa Học', 8: ' Thước', 9: 'Compa'}\n",
      "Nhập option bạn muốn thực hiện: Thêm sản phẩm mới/ Cập nhật sản phẩm/ Xóa sản phẩm/ Thoát khỏi ứng dụng \n",
      "Nhập option bạn muốn thực hiện: 3\n",
      "Nhập id sản phẩm: 2\n",
      "Nhập option tiếp theo: 4\n",
      "{1: 'bút', 3: 'sách Toán', 4: 'Sách Tiếng Anh', 5: 'Sách Ngữ Văn', 6: 'Sách Vật Lý', 7: 'Sách Hóa Học', 8: ' Thước', 9: 'Compa'}\n"
     ]
    }
   ],
   "source": [
    "product_manage = {1 : \"bút\", 2 : \"vở\", 3 : \"sách Toán\", 4 : \"Sách Tiếng Anh\", 5 : \"Sách Ngữ Văn\", 6 : \"Sách Vật Lý\", 7 : \"Sách Hóa Học\", 8 : \" Thước\" , 9 : \"Compa\"}\n",
    "\n",
    "print(product_manage)\n",
    "\n",
    "def take_id(product_manage, id):\n",
    "    if id in product_manage:\n",
    "        return product_manage.get(id)\n",
    "\n",
    "def updates_dict(product_manage, id, product):\n",
    "    new_product = {id : product}\n",
    "    if id not in product_manage:\n",
    "        product_manage.update(new_product)\n",
    "    else:\n",
    "        product_manage[id] = product\n",
    "        \n",
    "print(product_manage)\n",
    "\n",
    "print(\"Nhập option bạn muốn thực hiện: Thêm sản phẩm mới/ Cập nhật sản phẩm/ Xóa sản phẩm/ Thoát khỏi ứng dụng \")\n",
    "option = int(input(\"Nhập option bạn muốn thực hiện: \"))\n",
    "    \n",
    "if option == 1:\n",
    "    option = \"Thêm sản phẩm mới\"\n",
    "elif option == 2:\n",
    "    option = \"Cập nhật sản phẩm\"\n",
    "elif option == 3:\n",
    "    option = \"Xóa sản phẩm\"\n",
    "elif option == 4:\n",
    "    option = \"Thoát ứng dụng\"\n",
    "else:\n",
    "    option = \"Nhập sai, Nhập lại!!!\"\n",
    "    \n",
    "while option != 4:\n",
    "       \n",
    "    if option == \"Thêm sản phẩm mới\":            \n",
    "        id = int(input(\"Nhập id của sản phẩm mới: \")) \n",
    "        take_id(product_manage, id)\n",
    "        if take_id(product_manage, id) != None: \n",
    "            print(\"Sản phẩm đã tồn tại\")\n",
    "        else:\n",
    "            product = input(\"Nhập tên sản phẩm: \")\n",
    "            updates_dict(product_manage, id, product)\n",
    "    elif option == \"Cập nhật sản phẩm\":\n",
    "        id = int(input(\"Nhập id sản phẩm: \"))\n",
    "        take_id(product_manage, id)\n",
    "        if take_id(product_manage, id) != None:\n",
    "            product = input(\"Nhập tên sản phẩm cập nhật: \")\n",
    "            updates_dict(product_manage,id, product)\n",
    "    elif option == \"Xóa sản phẩm\":\n",
    "        id = int(input(\"Nhập id sản phẩm: \"))\n",
    "        take_id(product_manage, id)\n",
    "        if take_id(product_manage, id) != None:\n",
    "            del product_manage[id]\n",
    "    elif option == \"Thoát ứng dụng\":\n",
    "        break\n",
    "    else: \n",
    "        print(option)\n",
    "    option = int(input(\"Nhập option tiếp theo: \"))\n",
    "print(product_manage)"
   ]
  },
  {
   "cell_type": "code",
   "execution_count": null,
   "id": "11ee4e7c",
   "metadata": {},
   "outputs": [],
   "source": []
  }
 ],
 "metadata": {
  "kernelspec": {
   "display_name": "Python 3 (ipykernel)",
   "language": "python",
   "name": "python3"
  },
  "language_info": {
   "codemirror_mode": {
    "name": "ipython",
    "version": 3
   },
   "file_extension": ".py",
   "mimetype": "text/x-python",
   "name": "python",
   "nbconvert_exporter": "python",
   "pygments_lexer": "ipython3",
   "version": "3.10.6"
  }
 },
 "nbformat": 4,
 "nbformat_minor": 5
}
