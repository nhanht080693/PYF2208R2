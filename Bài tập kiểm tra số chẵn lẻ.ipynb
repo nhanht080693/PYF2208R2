{
 "cells": [
  {
   "cell_type": "code",
   "execution_count": 1,
   "id": "74ed272c",
   "metadata": {},
   "outputs": [
    {
     "name": "stdout",
     "output_type": "stream",
     "text": [
      "Nhập vào số a: 2\n",
      "2.0  là số chẵn\n"
     ]
    }
   ],
   "source": [
    "a = input(\"Nhập vào số a: \")\n",
    "a = float(a)\n",
    "if a % 2 == 0:\n",
    "    print(a, \" là số chẵn\")\n",
    "elif a % 2 ==1:\n",
    "    print(a, \" là số lẻ\")\n",
    "else: \n",
    "    print(\"Nhập sai giá trị\")\n",
    "    "
   ]
  }
 ],
 "metadata": {
  "kernelspec": {
   "display_name": "Python 3 (ipykernel)",
   "language": "python",
   "name": "python3"
  },
  "language_info": {
   "codemirror_mode": {
    "name": "ipython",
    "version": 3
   },
   "file_extension": ".py",
   "mimetype": "text/x-python",
   "name": "python",
   "nbconvert_exporter": "python",
   "pygments_lexer": "ipython3",
   "version": "3.10.6"
  }
 },
 "nbformat": 4,
 "nbformat_minor": 5
}
