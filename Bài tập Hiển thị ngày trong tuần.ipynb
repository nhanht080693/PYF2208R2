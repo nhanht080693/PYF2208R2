{
 "cells": [
  {
   "cell_type": "code",
   "execution_count": 2,
   "id": "7c5a59c4",
   "metadata": {},
   "outputs": [
    {
     "name": "stdout",
     "output_type": "stream",
     "text": [
      "Nhập số ngày: 100\n",
      "Nhập sai giá trị!!!\n"
     ]
    }
   ],
   "source": [
    "so_thu = int(input(\"Nhập số ngày: \"))\n",
    "if so_thu == 1:\n",
    "    print(\"Sunday\")\n",
    "elif so_thu == 2:\n",
    "    print(\"Monday\")\n",
    "elif so_thu == 3:\n",
    "    print(\"Tuesday\")\n",
    "elif so_thu == 4:\n",
    "    print(\"Wensday\")\n",
    "elif so_thu == 5:\n",
    "    print(\"Thursday\")\n",
    "elif so_thu == 6:\n",
    "    print(\"Friday\")\n",
    "elif so_thu == 7:\n",
    "    print(\"Saturday\")\n",
    "else:\n",
    "    print(\"Nhập sai giá trị!!!\")"
   ]
  }
 ],
 "metadata": {
  "kernelspec": {
   "display_name": "Python 3 (ipykernel)",
   "language": "python",
   "name": "python3"
  },
  "language_info": {
   "codemirror_mode": {
    "name": "ipython",
    "version": 3
   },
   "file_extension": ".py",
   "mimetype": "text/x-python",
   "name": "python",
   "nbconvert_exporter": "python",
   "pygments_lexer": "ipython3",
   "version": "3.10.6"
  }
 },
 "nbformat": 4,
 "nbformat_minor": 5
}
