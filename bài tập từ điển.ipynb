{
 "cells": [
  {
   "cell_type": "code",
   "execution_count": 5,
   "id": "f2a0e3b6",
   "metadata": {},
   "outputs": [
    {
     "name": "stdout",
     "output_type": "stream",
     "text": [
      "input the word you need to translate: football\n",
      "football in Vietnamese means bóng đá\n"
     ]
    }
   ],
   "source": [
    "data = {\"hello\" : \"xin chào\", \"goodbye\": \"tạm biệt\", \"sorry\" : \"xin lỗi\", \"updates\": \"cập nhật\", \"football\": \"bóng đá\"}\n",
    "def dictionary(data,input_word):\n",
    "    for key in data:\n",
    "        if key == input_word:\n",
    "            return key\n",
    "            \n",
    "input_word = input(\"input the word you need to translate: \")\n",
    "\n",
    "translated_word = dictionary(data, input_word)\n",
    "\n",
    "if data.get(translated_word) == None:\n",
    "    print(f'{translated_word} doesnt have in data')\n",
    "else:\n",
    "    print(f'{translated_word} in Vietnamese means {data.get(translated_word)}')"
   ]
  }
 ],
 "metadata": {
  "kernelspec": {
   "display_name": "Python 3 (ipykernel)",
   "language": "python",
   "name": "python3"
  },
  "language_info": {
   "codemirror_mode": {
    "name": "ipython",
    "version": 3
   },
   "file_extension": ".py",
   "mimetype": "text/x-python",
   "name": "python",
   "nbconvert_exporter": "python",
   "pygments_lexer": "ipython3",
   "version": "3.10.6"
  }
 },
 "nbformat": 4,
 "nbformat_minor": 5
}
