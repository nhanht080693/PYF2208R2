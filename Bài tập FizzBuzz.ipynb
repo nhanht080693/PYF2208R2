{
 "cells": [
  {
   "cell_type": "code",
   "execution_count": 2,
   "id": "945456b4",
   "metadata": {},
   "outputs": [
    {
     "name": "stdout",
     "output_type": "stream",
     "text": [
      "Nhập số: 2 20\n",
      "Dãy số sẽ thực hiện là từ  2 đến  20\n",
      "2\n",
      "Fizz\n",
      "4\n",
      "Buzz\n",
      "Fizz\n",
      "7\n",
      "8\n",
      "Fizz\n",
      "Buzz\n",
      "11\n",
      "Fizz\n",
      "13\n",
      "14\n",
      "FizzBuzz\n",
      "16\n",
      "17\n",
      "Fizz\n",
      "19\n",
      "Buzz\n"
     ]
    }
   ],
   "source": [
    "num = input(\"Nhập số: \")\n",
    "day_so = num.split(\" \")\n",
    "num1 = int(day_so[0])\n",
    "num2 = int(day_so[1])\n",
    "if num1 > num2:\n",
    "    print(\"vui lòng nhập lại dãy số khác!!!\")\n",
    "else:\n",
    "    print(\"Dãy số sẽ thực hiện là từ \", num1, \"đến \", num2)\n",
    "for i in range(num1, num2 + 1):\n",
    "    if i % 15 == 0:\n",
    "        print(\"FizzBuzz\")\n",
    "    elif i % 5 == 0:\n",
    "        print(\"Buzz\")\n",
    "    elif i % 3 == 0:\n",
    "        print(\"Fizz\")\n",
    "    else:\n",
    "        print(i)"
   ]
  }
 ],
 "metadata": {
  "kernelspec": {
   "display_name": "Python 3 (ipykernel)",
   "language": "python",
   "name": "python3"
  },
  "language_info": {
   "codemirror_mode": {
    "name": "ipython",
    "version": 3
   },
   "file_extension": ".py",
   "mimetype": "text/x-python",
   "name": "python",
   "nbconvert_exporter": "python",
   "pygments_lexer": "ipython3",
   "version": "3.10.6"
  }
 },
 "nbformat": 4,
 "nbformat_minor": 5
}
