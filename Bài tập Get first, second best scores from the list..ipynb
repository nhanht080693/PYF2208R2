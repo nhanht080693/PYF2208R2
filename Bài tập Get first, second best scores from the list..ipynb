{
 "cells": [
  {
   "cell_type": "code",
   "execution_count": 6,
   "id": "0527811a",
   "metadata": {},
   "outputs": [
    {
     "name": "stdout",
     "output_type": "stream",
     "text": [
      "First and second best score from the [1, 100, 3, 13, 34, 47, 5, 9, 11] is: 100, 47\n"
     ]
    }
   ],
   "source": [
    "lst1 = [1,100, 3,13,34,47, 5, 9,11]\n",
    "a = sorted(lst1,reverse=True)\n",
    "print(f'First and second best score from the {lst1} is: {a[0]}, {a[1]}')\n"
   ]
  }
 ],
 "metadata": {
  "kernelspec": {
   "display_name": "Python 3 (ipykernel)",
   "language": "python",
   "name": "python3"
  },
  "language_info": {
   "codemirror_mode": {
    "name": "ipython",
    "version": 3
   },
   "file_extension": ".py",
   "mimetype": "text/x-python",
   "name": "python",
   "nbconvert_exporter": "python",
   "pygments_lexer": "ipython3",
   "version": "3.10.6"
  }
 },
 "nbformat": 4,
 "nbformat_minor": 5
}
