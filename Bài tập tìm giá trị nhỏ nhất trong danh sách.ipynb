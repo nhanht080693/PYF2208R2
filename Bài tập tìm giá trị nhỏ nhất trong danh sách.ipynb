{
 "cells": [
  {
   "cell_type": "code",
   "execution_count": 2,
   "id": "c9584894",
   "metadata": {},
   "outputs": [
    {
     "data": {
      "text/plain": [
       "-1"
      ]
     },
     "execution_count": 2,
     "metadata": {},
     "output_type": "execute_result"
    }
   ],
   "source": [
    "def find_min(numbers):\n",
    "    min = numbers[0]\n",
    "    for i in numbers:\n",
    "        if min > i:\n",
    "            min = i\n",
    "    return min\n",
    "find_min([1,4, 6,8,-1, 7])"
   ]
  },
  {
   "cell_type": "code",
   "execution_count": null,
   "id": "190263f4",
   "metadata": {},
   "outputs": [],
   "source": []
  }
 ],
 "metadata": {
  "kernelspec": {
   "display_name": "Python 3 (ipykernel)",
   "language": "python",
   "name": "python3"
  },
  "language_info": {
   "codemirror_mode": {
    "name": "ipython",
    "version": 3
   },
   "file_extension": ".py",
   "mimetype": "text/x-python",
   "name": "python",
   "nbconvert_exporter": "python",
   "pygments_lexer": "ipython3",
   "version": "3.10.6"
  }
 },
 "nbformat": 4,
 "nbformat_minor": 5
}
