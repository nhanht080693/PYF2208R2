{
 "cells": [
  {
   "cell_type": "code",
   "execution_count": 2,
   "id": "ec241a6d",
   "metadata": {},
   "outputs": [
    {
     "name": "stdout",
     "output_type": "stream",
     "text": [
      "Nhập vào số nguyên cần check: 33\n",
      "33 là số lẻ\n"
     ]
    }
   ],
   "source": [
    "num = int(input(\"Nhập vào số nguyên cần check: \"))\n",
    "print(f\"{num} là số lẻ\") if num % 2 == 1 else print(f\"{num} là số chẵn\")                   "
   ]
  }
 ],
 "metadata": {
  "kernelspec": {
   "display_name": "Python 3 (ipykernel)",
   "language": "python",
   "name": "python3"
  },
  "language_info": {
   "codemirror_mode": {
    "name": "ipython",
    "version": 3
   },
   "file_extension": ".py",
   "mimetype": "text/x-python",
   "name": "python",
   "nbconvert_exporter": "python",
   "pygments_lexer": "ipython3",
   "version": "3.10.6"
  }
 },
 "nbformat": 4,
 "nbformat_minor": 5
}
