{
 "cells": [
  {
   "cell_type": "code",
   "execution_count": 3,
   "id": "c39795a1",
   "metadata": {},
   "outputs": [
    {
     "ename": "NameError",
     "evalue": "name 'tempList' is not defined",
     "output_type": "error",
     "traceback": [
      "\u001b[1;31m---------------------------------------------------------------------------\u001b[0m",
      "\u001b[1;31mNameError\u001b[0m                                 Traceback (most recent call last)",
      "Cell \u001b[1;32mIn [3], line 15\u001b[0m\n\u001b[0;32m     13\u001b[0m     \u001b[38;5;28;01melse\u001b[39;00m:\n\u001b[0;32m     14\u001b[0m         \u001b[38;5;28mprint\u001b[39m(item_name \u001b[38;5;241m+\u001b[39m \u001b[38;5;124m\"\u001b[39m\u001b[38;5;124mnot in list\u001b[39m\u001b[38;5;124m\"\u001b[39m)\n\u001b[1;32m---> 15\u001b[0m \u001b[38;5;28mprint\u001b[39m(\u001b[38;5;124m\"\u001b[39m\u001b[38;5;124mYour expenses:\u001b[39m\u001b[38;5;124m\"\u001b[39m, \u001b[43mtempList\u001b[49m)\n\u001b[0;32m     16\u001b[0m \u001b[38;5;28mprint\u001b[39m(\u001b[38;5;124m\"\u001b[39m\u001b[38;5;124mWhat do you want to do? - \u001b[39m\u001b[38;5;130;01m\\n\u001b[39;00m\u001b[38;5;130;01m\\\"\u001b[39;00m\u001b[38;5;124m1. Add\u001b[39m\u001b[38;5;130;01m\\n\u001b[39;00m\u001b[38;5;130;01m\\\"\u001b[39;00m\u001b[38;5;124m2. Remove\u001b[39m\u001b[38;5;124m\"\u001b[39m)\n\u001b[0;32m     17\u001b[0m name_input \u001b[38;5;241m=\u001b[39m \u001b[38;5;28minput\u001b[39m(\u001b[38;5;124m\"\u001b[39m\u001b[38;5;124mitem_name: \u001b[39m\u001b[38;5;124m\"\u001b[39m)\n",
      "\u001b[1;31mNameError\u001b[0m: name 'tempList' is not defined"
     ]
    }
   ],
   "source": [
    "def add_item(tempList, item):\n",
    "    tempList.append(item)\n",
    "def find_index_item(tempList, item_name):\n",
    "    result = -1\n",
    "    lenght = len(tempList)\n",
    "    for i in range(lenght):\n",
    "        if tempList[i]['name'] == item_name:\n",
    "            result = i\n",
    "    return result\n",
    "def remove_item(tempList, item_name):\n",
    "    if find_index_item(tempList, item_name) > -1:\n",
    "        del tempList[find_index_item(tempList, item_name)]\n",
    "    else:\n",
    "        print(item_name + \"not in list\")\n",
    "print(\"Your expenses:\", expenses)\n",
    "print(\"What do you want to do? - \\n\n",
    "\\\"1. Add\\n\n",
    "\\\"2. Remove\")\n",
    "name_input = input(\"item_name: \")\n",
    "if option == 1:\n",
    "    cost_input = int(input(\"item cost: \"))\n",
    "    date_input = input(\"date: \")\n",
    "    item = {'name': name_input, 'cost': cost_input, 'date': date_input}\n",
    "    add_item(expenses, item)\n",
    "    print(\"Your expenses: \", expenses)\n",
    "elif option == 2:\n",
    "    remove_item(expenses, name_input)\n",
    "    print(\"Your expenses: \", expenses)\n",
    "else:\n",
    "    print(\"Invalid input\")\n",
    "expenses = add_tem()"
   ]
  },
  {
   "cell_type": "code",
   "execution_count": null,
   "id": "5fb1f4eb",
   "metadata": {},
   "outputs": [],
   "source": []
  }
 ],
 "metadata": {
  "kernelspec": {
   "display_name": "Python 3 (ipykernel)",
   "language": "python",
   "name": "python3"
  },
  "language_info": {
   "codemirror_mode": {
    "name": "ipython",
    "version": 3
   },
   "file_extension": ".py",
   "mimetype": "text/x-python",
   "name": "python",
   "nbconvert_exporter": "python",
   "pygments_lexer": "ipython3",
   "version": "3.10.6"
  }
 },
 "nbformat": 4,
 "nbformat_minor": 5
}
